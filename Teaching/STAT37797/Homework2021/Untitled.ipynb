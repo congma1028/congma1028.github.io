{
 "cells": [
  {
   "cell_type": "code",
   "execution_count": 1,
   "metadata": {},
   "outputs": [],
   "source": [
    "import numpy as np\n",
    "\n",
    "import matplotlib.pyplot as plt\n"
   ]
  },
  {
   "cell_type": "code",
   "execution_count": null,
   "metadata": {},
   "outputs": [],
   "source": [
    "def gen_adj(n, eps):\n",
    "    h = int(n / 2)\n",
    "    pos_p = 1 / 2 + eps / 2\n",
    "    neg_p = 1 / 2 - eps / 2\n",
    "    A_11 = np.random.binomial(1, pos_p, size=[h,h])\n",
    "    A_22 = np.random.binomial(1, pos_p, size=[h,h])\n",
    "    A_12 = np.random.binomial(1, neg_p, size=[h,h])\n",
    "    A_1 = np.hstack((A_11,A_12))\n",
    "    A_2 = np.hstack((A_12.T,A_22))\n",
    "    A = np.vstack((A_1, A_2))\n",
    "    A_half = np.triu(A,1)\n",
    "    return A_half + A_half.T"
   ]
  },
  {
   "cell_type": "code",
   "execution_count": null,
   "metadata": {},
   "outputs": [],
   "source": [
    "n = 100\n",
    "v = np.random.randn(n, 1)"
   ]
  }
 ],
 "metadata": {
  "kernelspec": {
   "display_name": "Python 3",
   "language": "python",
   "name": "python3"
  },
  "language_info": {
   "codemirror_mode": {
    "name": "ipython",
    "version": 3
   },
   "file_extension": ".py",
   "mimetype": "text/x-python",
   "name": "python",
   "nbconvert_exporter": "python",
   "pygments_lexer": "ipython3",
   "version": "3.7.6"
  }
 },
 "nbformat": 4,
 "nbformat_minor": 4
}
