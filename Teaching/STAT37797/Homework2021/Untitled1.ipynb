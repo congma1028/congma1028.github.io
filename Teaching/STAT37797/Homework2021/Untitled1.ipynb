{
 "cells": [
  {
   "cell_type": "code",
   "execution_count": 22,
   "metadata": {},
   "outputs": [],
   "source": [
    "using Distributions, LinearAlgebra"
   ]
  },
  {
   "cell_type": "code",
   "execution_count": 23,
   "metadata": {},
   "outputs": [],
   "source": [
    "\n",
    "using Arpack\n",
    "\n",
    "using LaTeXStrings\n",
    "using PyPlot\n",
    "plt.style.use(\"ggplot\")\n",
    "plt.ion()\n"
   ]
  },
  {
   "cell_type": "code",
   "execution_count": 51,
   "metadata": {},
   "outputs": [
    {
     "data": {
      "text/plain": [
       "GOE (generic function with 1 method)"
      ]
     },
     "execution_count": 51,
     "metadata": {},
     "output_type": "execute_result"
    }
   ],
   "source": [
    "function GOE(n)\n",
    "    d = Normal()\n",
    "    W = rand(d, n,n)\n",
    "    return (W + transpose(W)) ./ (sqrt(2 * n))\n",
    "end\n",
    "\n"
   ]
  },
  {
   "cell_type": "code",
   "execution_count": 52,
   "metadata": {},
   "outputs": [
    {
     "name": "stdout",
     "output_type": "stream",
     "text": [
      "[1.9862399233937156]\n"
     ]
    }
   ],
   "source": [
    "W = GOE(1000)\n",
    "lambda, u = eigs(W, nev = 1, which=:LR)\n",
    "println(lambda)"
   ]
  },
  {
   "cell_type": "code",
   "execution_count": 59,
   "metadata": {},
   "outputs": [
    {
     "data": {
      "text/plain": [
       "run_one_instance (generic function with 1 method)"
      ]
     },
     "execution_count": 59,
     "metadata": {},
     "output_type": "execute_result"
    }
   ],
   "source": [
    "function run_one_instance(n, max_rep, v, xi)\n",
    "    max_eig = zeros(max_rep)\n",
    "    corr = zeros(max_rep)\n",
    "    for k in 1:max_rep\n",
    "        W = GOE(n)\n",
    "        A = xi .* v * transpose(v) + W\n",
    "        lambda, u = eigs(Symmetric(A), nev = 1, which=:LR)\n",
    "        max_eig[k] = lambda[1]\n",
    "        corr[k] = abs(dot(u,v))\n",
    "    end\n",
    "    return mean(max_eig), mean(corr)\n",
    "end"
   ]
  },
  {
   "cell_type": "code",
   "execution_count": 69,
   "metadata": {},
   "outputs": [
    {
     "name": "stdout",
     "output_type": "stream",
     "text": [
      "0.06337706156913579\n",
      "0.070983357939909\n",
      "0.07753621700250343\n",
      "0.09593015559327081\n",
      "0.10855757004379049\n",
      "0.12729978315065152\n",
      "0.16003680791185979\n",
      "0.20048149155646308\n",
      "0.2526070988229715\n",
      "0.3304347301963181\n",
      "0.4207811282834395\n",
      "0.5251715675717088\n",
      "0.6086277503298295\n",
      "0.6905562755964533\n",
      "0.7383126981860114\n",
      "0.7752648927522396\n",
      "0.8062944859802432\n",
      "0.8307417030237307\n",
      "0.8483326872797289\n",
      "0.8650873187707977\n"
     ]
    }
   ],
   "source": [
    "n = 200\n",
    "v = rand(n)\n",
    "v = v / norm(v)\n",
    "\n",
    "max_rep = 10^3\n",
    "\n",
    "\n",
    "num_xi = 20\n",
    "big_corr = zeros(20)\n",
    "for i = 1:20\n",
    "    xi = i / 10\n",
    "    a, big_corr[i] = run_one_instance(n, max_rep, v, xi)\n",
    "    println(big_corr[i])\n",
    "end"
   ]
  },
  {
   "cell_type": "code",
   "execution_count": 70,
   "metadata": {},
   "outputs": [
    {
     "data": {
      "image/png": "[encoded data removed]",
      "text/plain": [
       "Figure(PyObject <Figure size 640x480 with 1 Axes>)"
      ]
     },
     "metadata": {},
     "output_type": "display_data"
    },
    {
     "data": {
      "text/plain": [
       "1-element Array{PyCall.PyObject,1}:\n",
       " PyObject <matplotlib.lines.Line2D object at 0x7fc785b30dd0>"
      ]
     },
     "execution_count": 70,
     "metadata": {},
     "output_type": "execute_result"
    }
   ],
   "source": [
    "\n",
    "\n",
    "# # Now plot\n",
    "plt.close(\"all\")\n",
    "\n",
    "plt.plot(1:num_xi, big_corr)\n"
   ]
  },
  {
   "cell_type": "code",
   "execution_count": 28,
   "metadata": {},
   "outputs": [
    {
     "name": "stdout",
     "output_type": "stream",
     "text": [
      "[1.9123542915209748]\n",
      "0.18035667832638516\n"
     ]
    }
   ],
   "source": []
  },
  {
   "cell_type": "code",
   "execution_count": null,
   "metadata": {},
   "outputs": [],
   "source": []
  }
 ],
 "metadata": {
  "kernelspec": {
   "display_name": "Julia 1.5.3",
   "language": "julia",
   "name": "julia-1.5"
  },
  "language_info": {
   "file_extension": ".jl",
   "mimetype": "application/julia",
   "name": "julia",
   "version": "1.5.3"
  }
 },
 "nbformat": 4,
 "nbformat_minor": 4
}
