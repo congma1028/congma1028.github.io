{
 "cells": [
  {
   "cell_type": "code",
   "execution_count": 22,
   "metadata": {},
   "outputs": [],
   "source": [
    "using Distributions, LinearAlgebra"
   ]
  },
  {
   "cell_type": "code",
   "execution_count": 23,
   "metadata": {},
   "outputs": [],
   "source": [
    "\n",
    "using Arpack\n",
    "\n",
    "using LaTeXStrings\n",
    "using PyPlot\n",
    "plt.style.use(\"ggplot\")\n",
    "plt.ion()\n"
   ]
  },
  {
   "cell_type": "code",
   "execution_count": 51,
   "metadata": {},
   "outputs": [
    {
     "data": {
      "text/plain": [
       "GOE (generic function with 1 method)"
      ]
     },
     "execution_count": 51,
     "metadata": {},
     "output_type": "execute_result"
    }
   ],
   "source": [
    "function GOE(n)\n",
    "    d = Normal()\n",
    "    W = rand(d, n,n)\n",
    "    return (W + transpose(W)) ./ (sqrt(2 * n))\n",
    "end\n",
    "\n"
   ]
  },
  {
   "cell_type": "code",
   "execution_count": 52,
   "metadata": {},
   "outputs": [
    {
     "name": "stdout",
     "output_type": "stream",
     "text": [
      "[1.9862399233937156]\n"
     ]
    }
   ],
   "source": [
    "W = GOE(1000)\n",
    "lambda, u = eigs(W, nev = 1, which=:LR)\n",
    "println(lambda)"
   ]
  },
  {
   "cell_type": "code",
   "execution_count": 59,
   "metadata": {},
   "outputs": [
    {
     "data": {
      "text/plain": [
       "run_one_instance (generic function with 1 method)"
      ]
     },
     "execution_count": 59,
     "metadata": {},
     "output_type": "execute_result"
    }
   ],
   "source": [
    "function run_one_instance(n, max_rep, v, xi)\n",
    "    max_eig = zeros(max_rep)\n",
    "    corr = zeros(max_rep)\n",
    "    for k in 1:max_rep\n",
    "        W = GOE(n)\n",
    "        A = xi .* v * transpose(v) + W\n",
    "        lambda, u = eigs(Symmetric(A), nev = 1, which=:LR)\n",
    "        max_eig[k] = lambda[1]\n",
    "        corr[k] = abs(dot(u,v))\n",
    "    end\n",
    "    return mean(max_eig), mean(corr)\n",
    "end"
   ]
  },
  {
   "cell_type": "code",
   "execution_count": 68,
   "metadata": {},
   "outputs": [
    {
     "name": "stdout",
     "output_type": "stream",
     "text": [
      "0.017608234710449956\n",
      "0.022742662605776967\n",
      "0.02408186976991639\n",
      "0.028196349787579032\n"
     ]
    },
    {
     "ename": "LoadError",
     "evalue": "InterruptException:",
     "output_type": "error",
     "traceback": [
      "InterruptException:",
      "",
      "Stacktrace:",
      " [1] aupd_wrapper(::Type{T} where T, ::Arpack.var\"#matvecA!#24\"{Symmetric{Float64,Array{Float64,2}}}, ::Arpack.var\"#18#25\", ::Arpack.var\"#19#26\", ::Int64, ::Bool, ::Bool, ::String, ::Int64, ::Int64, ::String, ::Float64, ::Int64, ::Int64, ::Array{Float64,1}) at /Users/congma/.julia/packages/Arpack/o35I5/src/libarpack.jl:79",
      " [2] _eigs(::Symmetric{Float64,Array{Float64,2}}, ::UniformScaling{Bool}; nev::Int64, ncv::Int64, which::Symbol, tol::Float64, maxiter::Int64, sigma::Nothing, v0::Array{Float64,1}, ritzvec::Bool) at /Users/congma/.julia/packages/Arpack/o35I5/src/Arpack.jl:181",
      " [3] #eigs#10 at /Users/congma/.julia/packages/Arpack/o35I5/src/Arpack.jl:46 [inlined]",
      " [4] #eigs#9 at /Users/congma/.julia/packages/Arpack/o35I5/src/Arpack.jl:45 [inlined]",
      " [5] run_one_instance(::Int64, ::Int64, ::Array{Float64,1}, ::Float64) at ./In[59]:7",
      " [6] top-level scope at ./In[68]:12",
      " [7] include_string(::Function, ::Module, ::String, ::String) at ./loading.jl:1091"
     ]
    }
   ],
   "source": [
    "n = 200\n",
    "v = rand(n)\n",
    "v = v / norm(v)\n",
    "\n",
    "max_rep = 10^3\n",
    "\n",
    "\n",
    "num_xi = 20\n",
    "big_corr = zeros(20)\n",
    "for i = 1:20\n",
    "    xi = i / 10\n",
    "    a, big_corr[i] = run_one_instance(n, max_rep, v, xi)\n",
    "    println(big_corr[i])\n",
    "end"
   ]
  },
  {
   "cell_type": "code",
   "execution_count": 67,
   "metadata": {},
   "outputs": [
    {
     "data": {
      "image/png": "[encoded data removed]",
      "text/plain": [
       "Figure(PyObject <Figure size 640x480 with 1 Axes>)"
      ]
     },
     "metadata": {},
     "output_type": "display_data"
    },
    {
     "data": {
      "text/plain": [
       "1-element Array{PyCall.PyObject,1}:\n",
       " PyObject <matplotlib.lines.Line2D object at 0x7fc795e1d990>"
      ]
     },
     "execution_count": 67,
     "metadata": {},
     "output_type": "execute_result"
    }
   ],
   "source": [
    "\n",
    "\n",
    "# # Now plot\n",
    "plt.close(\"all\")\n",
    "\n",
    "plt.plot(1:num_xi, big_corr)\n"
   ]
  },
  {
   "cell_type": "code",
   "execution_count": 28,
   "metadata": {},
   "outputs": [
    {
     "name": "stdout",
     "output_type": "stream",
     "text": [
      "[1.9123542915209748]\n",
      "0.18035667832638516\n"
     ]
    }
   ],
   "source": []
  },
  {
   "cell_type": "code",
   "execution_count": null,
   "metadata": {},
   "outputs": [],
   "source": []
  }
 ],
 "metadata": {
  "kernelspec": {
   "display_name": "Julia 1.5.3",
   "language": "julia",
   "name": "julia-1.5"
  },
  "language_info": {
   "file_extension": ".jl",
   "mimetype": "application/julia",
   "name": "julia",
   "version": "1.5.3"
  }
 },
 "nbformat": 4,
 "nbformat_minor": 4
}
